{
  "nbformat": 4,
  "nbformat_minor": 0,
  "metadata": {
    "colab": {
      "provenance": [],
      "authorship_tag": "ABX9TyOYUUnB/OOpCx0J2WNRaKZV",
      "include_colab_link": true
    },
    "kernelspec": {
      "name": "python3",
      "display_name": "Python 3"
    },
    "language_info": {
      "name": "python"
    }
  },
  "cells": [
    {
      "cell_type": "markdown",
      "metadata": {
        "id": "view-in-github",
        "colab_type": "text"
      },
      "source": [
        "<a href=\"https://colab.research.google.com/github/dmb0018/CS6678_Homework7/blob/main/AdvancedAI_Homework7.ipynb\" target=\"_parent\"><img src=\"https://colab.research.google.com/assets/colab-badge.svg\" alt=\"Open In Colab\"/></a>"
      ]
    },
    {
      "cell_type": "code",
      "execution_count": 7,
      "metadata": {
        "colab": {
          "base_uri": "https://localhost:8080/"
        },
        "id": "A7wjbMcuYNrd",
        "outputId": "e3552edc-74d2-4446-9dab-ab3aa1cf27a6"
      },
      "outputs": [
        {
          "output_type": "stream",
          "name": "stdout",
          "text": [
            "Drive already mounted at /content/drive; to attempt to forcibly remount, call drive.mount(\"/content/drive\", force_remount=True).\n"
          ]
        }
      ],
      "source": [
        "from google.colab import drive\n",
        "drive.mount('/content/drive')"
      ]
    },
    {
      "cell_type": "code",
      "source": [
        "import pandas as pd\n",
        "\n",
        "#Create path for shakespear text file\n",
        "path = \"/content/drive/My Drive/Shakespeare.txt\"\n",
        "\n",
        "#Open Shakespear text file and store it in variable\n",
        "with open(path,\"r\") as df:\n",
        "  contentAsIs = df.read()"
      ],
      "metadata": {
        "id": "IHQwUC0oY1Bz"
      },
      "execution_count": 8,
      "outputs": []
    },
    {
      "cell_type": "code",
      "source": [
        "#Import string to remove punctuation\n",
        "import string\n",
        "\n",
        "#Remove Punctuation\n",
        "removePunctuation = contentAsIs.translate(str.maketrans('','',string.punctuation))\n"
      ],
      "metadata": {
        "id": "tK9VJjmnRJYu"
      },
      "execution_count": 9,
      "outputs": []
    },
    {
      "cell_type": "code",
      "source": [
        "import nltk\n",
        "from nltk.tokenize import word_tokenize\n",
        "\n",
        "# Files needed to download from ntlk library\n",
        "nltk.download('punkt')\n",
        "nltk.download('averaged_perceptron_tagger')\n",
        "nltk.download('words')\n",
        "\n",
        "# Tokenize the words\n",
        "tokens = word_tokenize(removePunctuation)\n",
        "english_words = set(nltk.corpus.words.words())\n",
        "tokens = [word.lower() for word in tokens if word.lower() in english_words]\n",
        "\n",
        "# Find and print number of tokens\n",
        "number_of_tokens = len(tokens)\n",
        "print(\"Number of words used that are in the engligh language are: \", number_of_tokens)"
      ],
      "metadata": {
        "id": "hWp3weYxda9O",
        "colab": {
          "base_uri": "https://localhost:8080/"
        },
        "outputId": "b254acba-4b62-4fbc-b5f1-1ac424cab723"
      },
      "execution_count": 10,
      "outputs": [
        {
          "output_type": "stream",
          "name": "stderr",
          "text": [
            "[nltk_data] Downloading package punkt to /root/nltk_data...\n",
            "[nltk_data]   Package punkt is already up-to-date!\n",
            "[nltk_data] Downloading package averaged_perceptron_tagger to\n",
            "[nltk_data]     /root/nltk_data...\n",
            "[nltk_data]   Package averaged_perceptron_tagger is already up-to-\n",
            "[nltk_data]       date!\n",
            "[nltk_data] Downloading package words to /root/nltk_data...\n",
            "[nltk_data]   Package words is already up-to-date!\n"
          ]
        },
        {
          "output_type": "stream",
          "name": "stdout",
          "text": [
            "Number of words used that are in the engligh language are:  15860\n"
          ]
        }
      ]
    },
    {
      "cell_type": "code",
      "source": [
        "#Sort the tokens\n",
        "tokens.sort()\n",
        "\n",
        "#create empty dictionary to add the unique strings to\n",
        "dictionary = []\n",
        "\n",
        "#Since the tokens array is sorted, this loop will only add unique strings to the dictionary\n",
        "for i in range(number_of_tokens):\n",
        "  if tokens[i] != tokens[i-1]:\n",
        "    dictionary.append(tokens[i])\n",
        "\n",
        "# Print out number of words in dictionary and the dictionary itself\n",
        "words_in_dictionary = len(dictionary)\n",
        "print(\"The number of unique words in dictionary:\", words_in_dictionary)\n",
        "print()\n",
        "print(dictionary)"
      ],
      "metadata": {
        "colab": {
          "base_uri": "https://localhost:8080/"
        },
        "id": "52PlDI3rxAPZ",
        "outputId": "84ed05fc-51ef-4e7a-c37e-a108d0934f6a"
      },
      "execution_count": 11,
      "outputs": [
        {
          "output_type": "stream",
          "name": "stdout",
          "text": [
            "The number of unique words in dictionary: 2274\n",
            "['a', 'abhor', 'abide', 'able', 'about', 'above', 'absence', 'absent', 'abundance', 'abundant', 'abuse', 'abysm', 'acceptable', 'acceptance', 'accessary', 'accident', 'account', 'accumulate', 'accuse', 'achieve', 'acknowledge', 'acquaintance', 'acquainted', 'act', 'action', 'active', 'actor', 'add', 'added', 'addition', 'adieu', 'adjunct', 'admire', 'admired', 'admiring', 'admit', 'admitted', 'adore', 'adulterate', 'advance', 'advantage', 'adverse', 'advised', 'advocate', 'afar', 'affable', 'afford', 'afloat', 'afresh', 'after', 'afterloss', 'afterwards', 'again', 'against', 'age', 'aggravate', 'ah', 'aid', 'air', 'alack', 'alas', 'alchemy', 'alien', 'alike', 'alive', 'all', 'allege', 'allow', 'almost', 'aloft', 'alone', 'already', 'alter', 'alteration', 'although', 'always', 'am', 'ambush', 'amen', 'amends', 'amiss', 'among', 'an', 'anchored', 'and', 'anew', 'angel', 'anger', 'angry', 'annoy', 'anon', 'another', 'answer', 'anticipate', 'antique', 'antiquity', 'any', 'apparel', 'appeal', 'appear', 'appearance', 'appetite', 'apple', 'approve', 'are', 'argument', 'aright', 'arise', 'array', 'arrest', 'art', 'as', 'ashes', 'aside', 'askance', 'asleep', 'aspect', 'assemble', 'assistance', 'assure', 'assured', 'astronomy', 'at', 'attaint', 'attend', 'audit', 'aught', 'authority', 'autumn', 'awake', 'away', 'ay', 'aye', 'babe', 'back', 'backward', 'bad', 'badness', 'bail', 'bait', 'balmy', 'bankrupt', 'banquet', 'bar', 'bare', 'bareness', 'bark', 'barren', 'barrenly', 'base', 'bases', 'bastard', 'bath', 'bay', 'be', 'bear', 'beard', 'bearer', 'bearing', 'beast', 'beauteous', 'beautiful', 'beauty', 'because', 'beck', 'become', 'becomes', 'becoming', 'bed', 'been', 'before', 'beggar', 'begin', 'beguile', 'behaviour', 'behind', 'behold', 'being', 'believe', 'bell', 'belong', 'beloved', 'bending', 'benefit', 'bent', 'bequest', 'bereft', 'beseem', 'beshrew', 'beside', 'besides', 'besiege', 'best', 'bestow', 'betray', 'better', 'betwixt', 'bevel', 'beweep', 'beyond', 'bid', 'bide', 'bier', 'big', 'bind', 'bird', 'birth', 'bitter', 'bitterness', 'black', 'blame', 'blamed', 'blazon', 'blessed', 'blessing', 'blest', 'blind', 'blindness', 'bliss', 'blood', 'bloody', 'blot', 'blow', 'blunt', 'blunter', 'blush', 'blushing', 'boast', 'boat', 'body', 'bold', 'boldness', 'bond', 'book', 'boot', 'bootless', 'bore', 'born', 'borne', 'bosom', 'both', 'bough', 'bound', 'boundless', 'bounteous', 'bounty', 'bow', 'bower', 'boy', 'brag', 'brain', 'brains', 'brand', 'brass', 'brave', 'breach', 'break', 'breast', 'breath', 'breathe', 'breathed', 'bred', 'breed', 'brief', 'bright', 'brightness', 'bring', 'bristly', 'broad', 'broke', 'broken', 'brood', 'brought', 'brow', 'bud', 'budding', 'building', 'built', 'burden', 'buried', 'burn', 'burned', 'burning', 'busy', 'but', 'buy', 'by', 'call', 'came', 'can', 'canker', 'canopy', 'captain', 'captive', 'car', 'carcanet', 'care', 'careful', 'carry', 'carve', 'case', 'cast', 'catch', 'cause', 'cease', 'celestial', 'ceremony', 'certain', 'chance', 'change', 'character', 'charge', 'charter', 'chary', 'chase', 'chaste', 'cheap', 'cheater', 'check', 'checked', 'cheek', 'cheer', 'cheered', 'cherish', 'chest', 'chide', 'chiding', 'chief', 'child', 'chips', 'choose', 'chose', 'chronicle', 'churl', 'civil', 'clay', 'clean', 'clear', 'clearer', 'clerk', 'cloak', 'clock', 'closet', 'closure', 'cloud', 'cold', 'colour', 'come', 'comes', 'comfort', 'coming', 'commence', 'commend', 'comment', 'commit', 'common', 'compare', 'compass', 'compile', 'complain', 'complexion', 'composed', 'composition', 'compound', 'concealed', 'conceit', 'concord', 'condemned', 'confess', 'confine', 'confined', 'confound', 'confounded', 'confounding', 'conquest', 'conscience', 'consecrate', 'consent', 'consider', 'conspire', 'constancy', 'constant', 'contain', 'content', 'contented', 'contents', 'continual', 'contracted', 'contrary', 'control', 'convert', 'converted', 'cool', 'copy', 'coral', 'correct', 'correction', 'correspondence', 'corrupt', 'corrupting', 'cost', 'costly', 'could', 'count', 'countenance', 'counterfeit', 'counterpart', 'counting', 'couplement', 'course', 'cover', 'covetous', 'coward', 'crave', 'creation', 'creature', 'credit', 'creep', 'crime', 'critic', 'crooked', 'cross', 'crossed', 'crow', 'crown', 'crowned', 'cruel', 'crushed', 'cry', 'crying', 'crystal', 'cunning', 'cup', 'cure', 'curious', 'curse', 'cut', 'daily', 'dancing', 'dare', 'dark', 'darkening', 'darkly', 'darkness', 'darling', 'dart', 'date', 'dateless', 'day', 'days', 'dead', 'deaf', 'dear', 'dearly', 'dearth', 'death', 'deathbed', 'debate', 'debt', 'debtor', 'decay', 'decayed', 'decease', 'deceased', 'deceive', 'decrease', 'decree', 'decrepit', 'deem', 'deep', 'deface', 'defeat', 'defect', 'defence', 'defendant', 'define', 'defy', 'delight', 'delighted', 'denote', 'deny', 'depart', 'depend', 'derive', 'describe', 'desert', 'deserve', 'deserved', 'deserving', 'desire', 'desired', 'despair', 'desperate', 'despise', 'despite', 'detain', 'determinate', 'determination', 'determined', 'devil', 'devise', 'devour', 'devouring', 'dial', 'did', 'didst', 'die', 'difference', 'different', 'dig', 'dignified', 'dignity', 'dimmed', 'directed', 'directly', 'disabled', 'disarmed', 'discontent', 'discourse', 'disdain', 'disease', 'diseased', 'disgrace', 'dispatch', 'dispense', 'disperse', 'disposed', 'dispraise', 'dissuade', 'distance', 'distempered', 'distillation', 'distilled', 'distraction', 'divert', 'divide', 'divided', 'divine', 'divining', 'do', 'doctorlike', 'doing', 'done', 'doom', 'dote', 'doting', 'double', 'doubt', 'doubting', 'dove', 'down', 'drained', 'draw', 'drawn', 'dream', 'dregs', 'dress', 'dressed', 'dressing', 'drink', 'drooping', 'drop', 'dross', 'drown', 'drudge', 'drunk', 'dry', 'due', 'dull', 'dully', 'dumb', 'dun', 'durst', 'dust', 'duteous', 'duty', 'dwell', 'dye', 'dying', 'each', 'eager', 'ear', 'early', 'earth', 'earthly', 'east', 'easy', 'eat', 'eclipse', 'edge', 'effect', 'effectually', 'either', 'elder', 'eloquence', 'else', 'elsewhere', 'embassage', 'embassy', 'enclose', 'end', 'endeared', 'ending', 'endless', 'endure', 'enforced', 'engraft', 'engrossed', 'enjoy', 'enjoyer', 'enlarged', 'enlighten', 'enmity', 'enough', 'enrich', 'ensconce', 'entertain', 'envy', 'epitaph', 'equal', 'equipage', 'ere', 'err', 'error', 'esteem', 'estimate', 'eternal', 'eternity', 'even', 'ever', 'evermore', 'every', 'everywhere', 'evident', 'evil', 'example', 'exceed', 'excel', 'excellence', 'excellent', 'except', 'excess', 'exchequer', 'excuse', 'excusing', 'executor', 'expense', 'expiate', 'expire', 'express', 'expressed', 'extant', 'extern', 'external', 'extreme', 'extremity', 'eye', 'eyed', 'face', 'faculty', 'fade', 'fading', 'faint', 'fair', 'fairer', 'fairing', 'fairly', 'faith', 'fall', 'false', 'falsehood', 'falsely', 'fame', 'familiar', 'famine', 'far', 'farewell', 'faring', 'farther', 'farthest', 'fashion', 'fast', 'faster', 'fate', 'father', 'fault', 'fawn', 'fear', 'fearful', 'fearfully', 'feast', 'feathered', 'feature', 'featured', 'featureless', 'fed', 'fee', 'feeble', 'feed', 'feeding', 'feel', 'feeling', 'feil', 'fell', 'felt', 'female', 'fester', 'fever', 'few', 'fickle', 'field', 'fiend', 'fierce', 'fiery', 'fight', 'figure', 'figured', 'filching', 'fill', 'filled', 'find', 'finding', 'fine', 'finger', 'fire', 'firm', 'first', 'fist', 'fitted', 'five', 'fixed', 'flame', 'flatter', 'flatterer', 'flattery', 'fled', 'fleece', 'fleeting', 'flesh', 'flourish', 'flow', 'flower', 'flown', 'fly', 'foe', 'foison', 'foist', 'follow', 'folly', 'food', 'fool', 'foolish', 'foot', 'for', 'forbear', 'forbid', 'forbidden', 'force', 'forced', 'fore', 'forebemoaned', 'foregone', 'forfeit', 'forged', 'forget', 'forgetful', 'forgetfulness', 'forgive', 'forgot', 'forgotten', 'forlorn', 'form', 'former', 'forsake', 'forsaken', 'forsworn', 'fort', 'forth', 'fortify', 'fortune', 'forty', 'forward', 'forwards', 'foul', 'found', 'four', 'fragrant', 'frame', 'frank', 'free', 'freedom', 'frequent', 'fresh', 'friend', 'from', 'front', 'frost', 'frown', 'fruit', 'fuel', 'full', 'function', 'fury', 'gain', 'gainer', 'gains', 'gainst', 'gait', 'gaol', 'gate', 'gaudy', 'gave', 'gay', 'gaze', 'gazing', 'general', 'gentle', 'gently', 'get', 'ghastly', 'ghost', 'gift', 'gilded', 'gilding', 'give', 'given', 'giving', 'glad', 'gladly', 'glance', 'glass', 'glazed', 'glorious', 'glory', 'glowing', 'glutton', 'go', 'god', 'goddess', 'goes', 'going', 'gold', 'golden', 'gone', 'good', 'goodly', 'goodness', 'got', 'grace', 'gracious', 'graciously', 'grant', 'grave', 'graven', 'gravity', 'great', 'greater', 'green', 'greet', 'grew', 'grey', 'grief', 'grieve', 'grieved', 'grind', 'groan', 'gross', 'grossly', 'ground', 'grounded', 'grow', 'growing', 'grown', 'growth', 'guard', 'guess', 'guest', 'guilt', 'guilty', 'gust', 'habit', 'habitation', 'had', 'hair', 'half', 'hallowed', 'halt', 'hand', 'hanging', 'hap', 'haply', 'happier', 'happy', 'hard', 'harder', 'harmful', 'harsh', 'harvest', 'haste', 'hasten', 'hate', 'hath', 'hatred', 'have', 'he', 'head', 'health', 'healthful', 'hear', 'hearing', 'hearsay', 'hearst', 'heart', 'hearts', 'heat', 'heaven', 'heavenly', 'heavens', 'heavily', 'heavy', 'heed', 'height', 'heinous', 'heir', 'hell', 'help', 'hence', 'her', 'herald', 'herd', 'here', 'herein', 'heretic', 'hers', 'herself', 'hidden', 'hide', 'hideous', 'high', 'highmost', 'hill', 'him', 'himself', 'hindmost', 'his', 'history', 'hold', 'holy', 'homage', 'home', 'honest', 'honey', 'hope', 'horse', 'hot', 'hour', 'house', 'how', 'hue', 'huge', 'hugely', 'humble', 'humour', 'hundred', 'hung', 'hungry', 'hurt', 'husband', 'husbandry', 'hush', 'hymn', 'i', 'idle', 'idly', 'idol', 'idolatry', 'if', 'ignorance', 'ill', 'image', 'imaginary', 'imitate', 'immortal', 'impair', 'impart', 'imperfect', 'impiety', 'import', 'importune', 'impregnable', 'impression', 'imprint', 'impute', 'in', 'incapable', 'inconstant', 'increase', 'increasing', 'indeed', 'indirectly', 'infection', 'inferior', 'influence', 'informer', 'inhabit', 'inhearse', 'inherit', 'iniquity', 'injurious', 'injury', 'ink', 'instant', 'instinct', 'insufficiency', 'intelligence', 'intend', 'interchange', 'interest', 'interim', 'into', 'invent', 'invention', 'inviting', 'invocate', 'inward', 'is', 'issue', 'issueless', 'ist', 'it', 'jade', 'jealous', 'jealousy', 'jewel', 'join', 'jollity', 'journey', 'joy', 'judgment', 'jump', 'just', 'justify', 'keen', 'keep', 'kept', 'key', 'kill', 'kind', 'kindhearted', 'kindness', 'king', 'kingdom', 'kingly', 'kiss', 'kissing', 'knew', 'knife', 'knit', 'know', 'knowing', 'knowledge', 'known', 'lace', 'lack', 'ladies', 'laid', 'lamb', 'lame', 'lameness', 'land', 'lap', 'large', 'largess', 'lark', 'lascivious', 'last', 'lasting', 'latch', 'late', 'lawful', 'lay', 'lead', 'league', 'lean', 'leap', 'learn', 'learned', 'learning', 'lease', 'least', 'leave', 'leaves', 'leaving', 'left', 'legacy', 'leisure', 'lend', 'length', 'less', 'lesser', 'lesson', 'lest', 'let', 'level', 'liberty', 'lie', 'life', 'light', 'like', 'likeness', 'liker', 'lily', 'limit', 'limping', 'line', 'linger', 'lip', 'liquid', 'list', 'little', 'live', 'lived', 'lively', 'livery', 'living', 'lo', 'loan', 'loathsome', 'locked', 'lodged', 'lofty', 'long', 'longer', 'longing', 'look', 'looking', 'lord', 'lose', 'losing', 'loss', 'lost', 'loud', 'love', 'loveliness', 'lovely', 'lover', 'loving', 'low', 'luck', 'lust', 'lusty', 'lying', 'mad', 'madding', 'made', 'madness', 'maid', 'maiden', 'main', 'maintain', 'majesty', 'make', 'making', 'man', 'manner', 'manners', 'mansion', 'many', 'map', 'mar', 'marble', 'march', 'marigold', 'marjoram', 'mark', 'marriage', 'married', 'marvel', 'masked', 'masonry', 'master', 'matter', 'maturity', 'may', 'me', 'meant', 'measure', 'measured', 'medicine', 'meditation', 'meet', 'meetness', 'melancholy', 'memorial', 'memory', 'men', 'mend', 'mercy', 'merit', 'methinks', 'middle', 'might', 'millioned', 'millions', 'mind', 'minded', 'mine', 'minion', 'miracle', 'miser', 'misprision', 'mistake', 'mistaking', 'mistress', 'misuse', 'mixed', 'moan', 'mock', 'modern', 'moiety', 'moment', 'monument', 'moon', 'more', 'morn', 'morning', 'morrow', 'mortal', 'mortality', 'most', 'mother', 'motion', 'motley', 'mountain', 'mounted', 'mourn', 'mournful', 'mourning', 'mouthed', 'move', 'moving', 'mow', 'much', 'mud', 'muse', 'music', 'must', 'mute', 'mutual', 'my', 'naked', 'name', 'naming', 'nativity', 'nature', 'nay', 'near', 'nearly', 'necessary', 'neck', 'need', 'needing', 'needs', 'needy', 'neer', 'neglect', 'neigh', 'neither', 'never', 'new', 'newfangled', 'news', 'next', 'niggard', 'night', 'nightly', 'nights', 'nimble', 'nine', 'no', 'none', 'noon', 'nor', 'not', 'note', 'noted', 'nothing', 'nought', 'novel', 'now', 'number', 'nurse', 'o', 'object', 'oblation', 'oblivion', 'obsequious', 'ocean', 'oer', 'of', 'off', 'offend', 'office', 'oft', 'often', 'old', 'older', 'on', 'once', 'one', 'only', 'onset', 'onward', 'onwards', 'open', 'oppressed', 'oppression', 'or', 'orient', 'ornament', 'other', 'our', 'out', 'outcast', 'outgoing', 'outlive', 'outright', 'outward', 'outworn', 'over', 'overpartial', 'overplus', 'overthrow', 'overturn', 'owe', 'own', 'pace', 'page', 'pain', 'painful', 'painted', 'painter', 'painting', 'palate', 'pale', 'paper', 'pardon', 'part', 'partake', 'partly', 'party', 'pass', 'passion', 'past', 'patent', 'patience', 'patient', 'pattern', 'pay', 'paying', 'peace', 'pearl', 'pebbled', 'peep', 'pen', 'penance', 'pencil', 'pent', 'penury', 'perceive', 'perfect', 'perfection', 'perforce', 'perfumed', 'perhaps', 'perish', 'perjured', 'permit', 'perpetual', 'perspective', 'persuade', 'perusal', 'petty', 'philomel', 'phoenix', 'phrase', 'physic', 'physician', 'picture', 'pictured', 'pierced', 'pilgrimage', 'pine', 'pipe', 'pitch', 'pitiful', 'pity', 'pitying', 'place', 'plague', 'plain', 'play', 'plea', 'plead', 'pleasant', 'please', 'pleasing', 'pleasure', 'plight', 'plot', 'pluck', 'poesy', 'poet', 'point', 'pointing', 'poison', 'policy', 'polished', 'politic', 'pomp', 'poor', 'poorly', 'possessed', 'possessing', 'possession', 'posterity', 'posting', 'poverty', 'power', 'powerful', 'praise', 'praising', 'pray', 'precious', 'predict', 'prepare', 'preposterously', 'presage', 'presence', 'present', 'preserve', 'press', 'presume', 'pretty', 'prevent', 'prey', 'pricked', 'pride', 'prime', 'print', 'prison', 'prisoner', 'private', 'privilege', 'prize', 'proceed', 'proceeds', 'process', 'profane', 'profit', 'profitless', 'profound', 'prognosticate', 'progress', 'promise', 'prone', 'proof', 'prophetic', 'proudly', 'prove', 'proved', 'provide', 'proving', 'provoke', 'pry', 'public', 'publish', 'pupil', 'pure', 'purge', 'purging', 'purity', 'purple', 'purpose', 'pursuit', 'put', 'qualify', 'quality', 'queen', 'quest', 'question', 'quick', 'quickly', 'quiet', 'quietus', 'quill', 'quite', 'race', 'rack', 'rage', 'ragged', 'raiment', 'rain', 'rainy', 'raised', 'random', 'ranged', 'rank', 'ransom', 'rare', 'rather', 'raven', 'read', 'reap', 'rearward', 'reason', 'rebel', 'receipt', 'receive', 'recite', 'reckon', 'reckoning', 'recompense', 'record', 'red', 'redeem', 'refined', 'refuse', 'region', 'register', 'rehearse', 'reign', 'relief', 'religious', 'remain', 'remains', 'remedy', 'remember', 'remembrance', 'remote', 'remove', 'removed', 'remover', 'render', 'renew', 'rent', 'repair', 'repay', 'repent', 'replete', 'report', 'repose', 'reproach', 'require', 'resemble', 'reserve', 'resort', 'respect', 'rest', 'restful', 'restore', 'resty', 'resurvey', 'retention', 'return', 'returned', 'revenge', 'review', 'revolt', 'revolution', 'rhetoric', 'rhyme', 'rich', 'riches', 'richly', 'rid', 'ride', 'rider', 'right', 'rightly', 'riot', 'ripe', 'riper', 'rise', 'rising', 'rite', 'robbery', 'robbing', 'robe', 'rolling', 'rondure', 'roof', 'room', 'root', 'rose', 'rosy', 'rotten', 'rough', 'rude', 'rudely', 'ruin', 'ruinate', 'ruined', 'ruminate', 'run', 'ruth', 'sable', 'sacred', 'sad', 'sadly', 'said', 'sail', 'saint', 'sake', 'salutation', 'salve', 'same', 'sang', 'sap', 'satire', 'saucy', 'savage', 'save', 'saved', 'savour', 'saw', 'say', 'saying', 'scandal', 'scarcely', 'scarlet', 'scope', 'score', 'scorn', 'scorned', 'scythe', 'sea', 'seal', 'sealed', 'seat', 'second', 'secret', 'see', 'seeing', 'seek', 'seeking', 'seem', 'seeming', 'seemly', 'seen', 'seldom', 'self', 'selfsame', 'sell', 'selling', 'semblance', 'send', 'sense', 'sensual', 'separable', 'separation', 'sequent', 'servant', 'service', 'serving', 'sessions', 'set', 'settled', 'several', 'shade', 'shadow', 'shady', 'shake', 'shaken', 'shall', 'shalt', 'shame', 'shamed', 'shamefully', 'shape', 'share', 'sharp', 'she', 'shifting', 'shine', 'shook', 'shoot', 'shop', 'shore', 'shorn', 'short', 'should', 'show', 'showing', 'shown', 'shun', 'sick', 'sicken', 'sickly', 'sickness', 'side', 'sides', 'siege', 'sigh', 'sight', 'sightless', 'silence', 'silent', 'silver', 'silvered', 'simple', 'simplicity', 'simply', 'sin', 'since', 'sinful', 'sing', 'single', 'singleness', 'sire', 'siren', 'sit', 'situation', 'skill', 'sky', 'slain', 'slander', 'slandering', 'slave', 'slavery', 'slay', 'sleep', 'sleeping', 'slept', 'slide', 'slight', 'slow', 'sluttish', 'small', 'smell', 'smiling', 'smoke', 'smother', 'snow', 'so', 'sober', 'society', 'soft', 'soil', 'sold', 'sole', 'solemn', 'some', 'something', 'sometime', 'sometimes', 'son', 'song', 'soon', 'sooner', 'sorrow', 'sorry', 'sort', 'sought', 'soul', 'sound', 'soundless', 'sour', 'sourly', 'sovereign', 'space', 'spacious', 'sparkling', 'speak', 'speaking', 'special', 'speechless', 'speed', 'spend', 'spending', 'spent', 'spirit', 'spite', 'spoil', 'sport', 'sportive', 'spot', 'spread', 'spring', 'spur', 'stage', 'stain', 'stamp', 'stand', 'star', 'starved', 'state', 'statute', 'stay', 'stays', 'steal', 'stealing', 'stealth', 'steel', 'steep', 'steepy', 'stern', 'still', 'stole', 'stone', 'stop', 'stopped', 'store', 'stormy', 'story', 'stout', 'straight', 'strained', 'strange', 'strangely', 'strangle', 'strength', 'strife', 'string', 'strive', 'striving', 'strong', 'strongly', 'struck', 'style', 'subdued', 'subject', 'subsist', 'substance', 'succeeding', 'succession', 'successive', 'such', 'sue', 'suffer', 'sufferance', 'suggest', 'suit', 'sullen', 'sum', 'summer', 'summon', 'sun', 'sunk', 'sunken', 'sunset', 'suppose', 'supposed', 'supposing', 'suppressed', 'sure', 'surfeit', 'surly', 'surmise', 'surmount', 'survey', 'survive', 'suspect', 'sway', 'swear', 'sweet', 'sweetly', 'sweetness', 'swift', 'sword', 'sworn', 't', 'table', 'tables', 'take', 'taken', 'taker', 'tall', 'tame', 'tan', 'tanned', 'task', 'taste', 'tattered', 'taught', 'teach', 'tear', 'teeming', 'teeth', 'tell', 'telling', 'temperate', 'temptation', 'tempting', 'ten', 'tend', 'tender', 'tenth', 'tenure', 'term', 'testy', 'th', 'than', 'thank', 'thanks', 'that', 'thats', 'the', 'thee', 'theft', 'their', 'theirs', 'them', 'themselves', 'then', 'thence', 'there', 'thereby', 'therefore', 'therein', 'thereof', 'theres', 'these', 'they', 'thief', 'thievish', 'thine', 'thing', 'think', 'thinking', 'thinly', 'third', 'this', 'thither', 'those', 'thou', 'though', 'thought', 'thousand', 'thrall', 'three', 'threefold', 'threescore', 'threw', 'thrice', 'thriftless', 'thrive', 'through', 'throw', 'thrust', 'thunder', 'thus', 'thy', 'thyself', 'tibey', 'tickled', 'tie', 'tied', 'till', 'tillage', 'time', 'times', 'tincture', 'tired', 'title', 'to', 'today', 'together', 'toil', 'toiled', 'told', 'tomb', 'tomorrow', 'tongue', 'too', 'took', 'top', 'tops', 'torment', 'torn', 'torture', 'touch', 'touched', 'toward', 'towards', 'tract', 'traffic', 'transferred', 'transfix', 'transgression', 'translate', 'transport', 'travail', 'travel', 'travelled', 'treason', 'treasure', 'trespass', 'trial', 'trifle', 'trim', 'tripping', 'triumph', 'triumphant', 'trouble', 'truant', 'true', 'truly', 'trust', 'truth', 'try', 'tune', 'turn', 'turned', 'turns', 'twain', 'twenty', 'twice', 'twilight', 'twire', 'twixt', 'two', 'twofold', 'tyrannous', 'tyranny', 'tyrant', 'ugly', 'unbless', 'unbred', 'uncertain', 'under', 'undivided', 'unfair', 'unfathered', 'unfolding', 'unhappily', 'universe', 'unjust', 'unkind', 'unkindness', 'unknown', 'unlearned', 'unless', 'unlettered', 'unlooked', 'unmoved', 'unperfect', 'unprovident', 'unrespected', 'unrest', 'unseeing', 'unseen', 'unset', 'unstained', 'unswayed', 'unswept', 'untainted', 'unthrift', 'unthrifty', 'until', 'unto', 'untold', 'untrimmed', 'untrue', 'untutored', 'unused', 'unwooed', 'unworthiness', 'up', 'uphold', 'upon', 'uprear', 'urge', 'us', 'use', 'used', 'user', 'usurer', 'usury', 'utmost', 'vacant', 'vade', 'vainly', 'vanishing', 'vantage', 'variation', 'vassal', 'vassalage', 'vaunt', 'veil', 'vengeful', 'verdict', 'vermilion', 'verse', 'very', 'vex', 'vexed', 'vial', 'vice', 'victor', 'view', 'vile', 'violet', 'virgin', 'virtue', 'virtuous', 'visage', 'vision', 'voice', 'votary', 'vouchsafe', 'vow', 'vowed', 'vulgar', 'wail', 'wait', 'waiting', 'wake', 'waking', 'walk', 'wane', 'waning', 'want', 'wanting', 'wanton', 'wantonly', 'wantonness', 'war', 'ward', 'wardrobe', 'warm', 'warmed', 'warning', 'warrantise', 'warrior', 'wary', 'was', 'waste', 'wasted', 'wasteful', 'watch', 'watching', 'watchman', 'water', 'watery', 'way', 'we', 'weak', 'weakness', 'wealth', 'wear', 'weary', 'weed', 'weep', 'weigh', 'weight', 'welcome', 'welfare', 'well', 'went', 'were', 'wert', 'west', 'wet', 'what', 'whats', 'whatsoever', 'when', 'whence', 'where', 'wherefore', 'wherein', 'whereof', 'whereon', 'wherethrough', 'whereto', 'whereupon', 'wherever', 'wherewith', 'whether', 'which', 'while', 'whilst', 'whit', 'white', 'who', 'whoever', 'whole', 'whom', 'whose', 'why', 'wide', 'widow', 'widowed', 'wife', 'wild', 'will', 'willing', 'willingly', 'wilt', 'win', 'wind', 'windy', 'wing', 'winged', 'wink', 'winter', 'wiry', 'wisdom', 'wise', 'wish', 'wished', 'wishing', 'wit', 'with', 'withal', 'withering', 'within', 'without', 'witness', 'woe', 'woeful', 'wolf', 'woman', 'womb', 'won', 'wonder', 'wondrous', 'wont', 'woo', 'wood', 'wooing', 'word', 'work', 'works', 'world', 'worse', 'worser', 'worship', 'worst', 'worth', 'worthiness', 'worthless', 'worthy', 'would', 'wouldst', 'wound', 'wounded', 'wrack', 'wrackful', 'wretch', 'wretched', 'wrinkle', 'writ', 'write', 'written', 'wrong', 'wrongfully', 'wrought', 'ye', 'yea', 'year', 'yellow', 'yet', 'yield', 'yore', 'you', 'young', 'youngly', 'your', 'yours', 'youth', 'youthful', 'zealous']\n"
          ]
        }
      ]
    },
    {
      "cell_type": "code",
      "source": [
        "# Open file again to read 3 different lines\n",
        "with open(path,\"r\") as df:\n",
        "  lines = df.readlines()\n",
        "\n",
        "# Read the three lines chosen\n",
        "line_1 = lines[10]\n",
        "line_2 = lines[25]\n",
        "line_3 = lines[50]\n",
        "\n",
        "# Remove punctuation from the three lines chosen\n",
        "line_1_removedPunc = line_1.translate(str.maketrans('','',string.punctuation))\n",
        "line_2_removedPunc = line_2.translate(str.maketrans('','',string.punctuation))\n",
        "line_3_removedPunc = line_3.translate(str.maketrans('','',string.punctuation))\n",
        "\n",
        "#Tokenize the three lines\n",
        "line_1_tokenized = word_tokenize(line_1_removedPunc)\n",
        "line_2_tokenized = word_tokenize(line_2_removedPunc)\n",
        "line_3_tokenized = word_tokenize(line_3_removedPunc)\n",
        "\n",
        "# Use nltk POS tool on the three lines\n",
        "POS_tagged_line_1 = nltk.pos_tag(line_1_tokenized)\n",
        "POS_tagged_line_2 = nltk.pos_tag(line_2_tokenized)\n",
        "POS_tagged_line_3 = nltk.pos_tag(line_3_tokenized)\n",
        "\n",
        "# Print POS results\n",
        "print(POS_tagged_line_1)\n",
        "print(POS_tagged_line_2)\n",
        "print(POS_tagged_line_3)"
      ],
      "metadata": {
        "id": "-FtWElwvtm5-",
        "colab": {
          "base_uri": "https://localhost:8080/"
        },
        "outputId": "c3f780f3-8a38-49a8-f343-fdbdd0d000ef"
      },
      "execution_count": 13,
      "outputs": [
        {
          "output_type": "stream",
          "name": "stdout",
          "text": [
            "[('Making', 'VBG'), ('a', 'DT'), ('famine', 'NN'), ('where', 'WRB'), ('abundance', 'NN'), ('lies', 'VBZ')]\n",
            "[('To', 'TO'), ('say', 'VB'), ('within', 'IN'), ('thine', 'JJ'), ('own', 'JJ'), ('deep', 'NN'), ('sunken', 'NN'), ('eyes', 'NNS')]\n",
            "[('Upon', 'IN'), ('thy', 'JJ'), ('self', 'NN'), ('thy', 'JJ'), ('beautys', 'NN'), ('legacy', 'NN')]\n"
          ]
        }
      ]
    },
    {
      "cell_type": "code",
      "source": [
        "from collections import Counter\n",
        "\n",
        "# Count the words\n",
        "Counters_found = Counter(tokens)\n",
        "\n",
        "#Determine and print most frequent words\n",
        "most_frequent = Counters_found.most_common(20)\n",
        "print(\"Most frequent words using ''words'' dictionary:\", most_frequent)"
      ],
      "metadata": {
        "colab": {
          "base_uri": "https://localhost:8080/"
        },
        "id": "2ohd9ROUv-M2",
        "outputId": "9cbbf07e-e5b5-45f5-f6e6-51101474fd48"
      },
      "execution_count": 14,
      "outputs": [
        {
          "output_type": "stream",
          "name": "stdout",
          "text": [
            "Most frequent words using ''words'' dictionary: [('and', 490), ('the', 432), ('to', 408), ('my', 393), ('of', 370), ('i', 344), ('in', 323), ('that', 322), ('thy', 287), ('thou', 235), ('with', 181), ('not', 177), ('for', 171), ('is', 168), ('me', 164), ('a', 163), ('but', 163), ('love', 162), ('thee', 162), ('so', 145)]\n"
          ]
        }
      ]
    }
  ]
}